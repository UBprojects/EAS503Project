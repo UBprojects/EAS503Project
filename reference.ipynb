{
 "cells": [
  {
   "cell_type": "code",
   "execution_count": 1,
   "metadata": {},
   "outputs": [],
   "source": [
    "import pandas as pd\n",
    "import numpy as np\n",
    "import matplotlib.pyplot as plt\n",
    "import datetime as dt"
   ]
  },
  {
   "cell_type": "code",
   "execution_count": 2,
   "metadata": {},
   "outputs": [
    {
     "name": "stderr",
     "output_type": "stream",
     "text": [
      "C:\\Users\\gupta\\Anaconda3\\lib\\site-packages\\IPython\\core\\interactiveshell.py:3049: DtypeWarning: Columns (2,19) have mixed types. Specify dtype option on import or set low_memory=False.\n",
      "  interactivity=interactivity, compiler=compiler, result=result)\n"
     ]
    }
   ],
   "source": [
    "data = pd.read_csv('D:\\Projects\\SalaryInfoStateAuthorities\\Salary_Information_for_State_Authorities.csv')"
   ]
  },
  {
   "cell_type": "code",
   "execution_count": 3,
   "metadata": {},
   "outputs": [
    {
     "data": {
      "text/html": [
       "<div>\n",
       "<style scoped>\n",
       "    .dataframe tbody tr th:only-of-type {\n",
       "        vertical-align: middle;\n",
       "    }\n",
       "\n",
       "    .dataframe tbody tr th {\n",
       "        vertical-align: top;\n",
       "    }\n",
       "\n",
       "    .dataframe thead th {\n",
       "        text-align: right;\n",
       "    }\n",
       "</style>\n",
       "<table border=\"1\" class=\"dataframe\">\n",
       "  <thead>\n",
       "    <tr style=\"text-align: right;\">\n",
       "      <th></th>\n",
       "      <th>Authority Name</th>\n",
       "      <th>Fiscal Year End Date</th>\n",
       "      <th>Has Employees</th>\n",
       "      <th>Last Name</th>\n",
       "      <th>Middle Initial</th>\n",
       "      <th>First Name</th>\n",
       "      <th>Title</th>\n",
       "      <th>Group</th>\n",
       "      <th>Department</th>\n",
       "      <th>Pay Type</th>\n",
       "      <th>Exempt Indicator</th>\n",
       "      <th>Base Annualized Salary</th>\n",
       "      <th>Actual Salary Paid</th>\n",
       "      <th>Overtime Paid</th>\n",
       "      <th>Performance Bonus</th>\n",
       "      <th>Extra Pay</th>\n",
       "      <th>Other Compensation</th>\n",
       "      <th>Total Compensation</th>\n",
       "      <th>Paid By Another Entity</th>\n",
       "      <th>Paid by State or Local Government</th>\n",
       "    </tr>\n",
       "  </thead>\n",
       "  <tbody>\n",
       "    <tr>\n",
       "      <th>0</th>\n",
       "      <td>Agriculture and New York State Horse Breeding ...</td>\n",
       "      <td>12/31/2018</td>\n",
       "      <td>NaN</td>\n",
       "      <td>Bennett</td>\n",
       "      <td>NaN</td>\n",
       "      <td>Dawn</td>\n",
       "      <td>Office Manager</td>\n",
       "      <td>Administrative and Clerical</td>\n",
       "      <td>NaN</td>\n",
       "      <td>FT</td>\n",
       "      <td>Y</td>\n",
       "      <td>56,000.00</td>\n",
       "      <td>56,000.00</td>\n",
       "      <td>0.00</td>\n",
       "      <td>0.00</td>\n",
       "      <td>0.00</td>\n",
       "      <td>0.00</td>\n",
       "      <td>56,000.00</td>\n",
       "      <td>N</td>\n",
       "      <td>NaN</td>\n",
       "    </tr>\n",
       "    <tr>\n",
       "      <th>1</th>\n",
       "      <td>Agriculture and New York State Horse Breeding ...</td>\n",
       "      <td>12/31/2018</td>\n",
       "      <td>NaN</td>\n",
       "      <td>Richardson</td>\n",
       "      <td>L</td>\n",
       "      <td>Connie</td>\n",
       "      <td>Executive Assistant</td>\n",
       "      <td>Administrative and Clerical</td>\n",
       "      <td>NaN</td>\n",
       "      <td>FT</td>\n",
       "      <td>Y</td>\n",
       "      <td>45,840.00</td>\n",
       "      <td>45,840.00</td>\n",
       "      <td>0.00</td>\n",
       "      <td>0.00</td>\n",
       "      <td>0.00</td>\n",
       "      <td>0.00</td>\n",
       "      <td>45,840.00</td>\n",
       "      <td>N</td>\n",
       "      <td>NaN</td>\n",
       "    </tr>\n",
       "    <tr>\n",
       "      <th>2</th>\n",
       "      <td>Agriculture and New York State Horse Breeding ...</td>\n",
       "      <td>12/31/2018</td>\n",
       "      <td>NaN</td>\n",
       "      <td>Young</td>\n",
       "      <td>NaN</td>\n",
       "      <td>M. Kelly</td>\n",
       "      <td>Executive Director</td>\n",
       "      <td>Executive</td>\n",
       "      <td>NaN</td>\n",
       "      <td>FT</td>\n",
       "      <td>Y</td>\n",
       "      <td>115,000.00</td>\n",
       "      <td>115,000.00</td>\n",
       "      <td>0.00</td>\n",
       "      <td>0.00</td>\n",
       "      <td>0.00</td>\n",
       "      <td>0.00</td>\n",
       "      <td>115,000.00</td>\n",
       "      <td>N</td>\n",
       "      <td>NaN</td>\n",
       "    </tr>\n",
       "    <tr>\n",
       "      <th>3</th>\n",
       "      <td>Albany Convention Center Authority</td>\n",
       "      <td>12/31/2018</td>\n",
       "      <td>NaN</td>\n",
       "      <td>Sorrentino</td>\n",
       "      <td>NaN</td>\n",
       "      <td>Al</td>\n",
       "      <td>Project Manager</td>\n",
       "      <td>Managerial</td>\n",
       "      <td>NaN</td>\n",
       "      <td>FT</td>\n",
       "      <td>Y</td>\n",
       "      <td>40,305.33</td>\n",
       "      <td>40,305.33</td>\n",
       "      <td>0.00</td>\n",
       "      <td>0.00</td>\n",
       "      <td>0.00</td>\n",
       "      <td>0.00</td>\n",
       "      <td>40,305.33</td>\n",
       "      <td>N</td>\n",
       "      <td>NaN</td>\n",
       "    </tr>\n",
       "    <tr>\n",
       "      <th>4</th>\n",
       "      <td>Albany Convention Center Authority</td>\n",
       "      <td>12/31/2018</td>\n",
       "      <td>NaN</td>\n",
       "      <td>Stewart</td>\n",
       "      <td>NaN</td>\n",
       "      <td>Duncan</td>\n",
       "      <td>Executive Director</td>\n",
       "      <td>Managerial</td>\n",
       "      <td>NaN</td>\n",
       "      <td>FT</td>\n",
       "      <td>Y</td>\n",
       "      <td>118,890.00</td>\n",
       "      <td>118,890.00</td>\n",
       "      <td>0.00</td>\n",
       "      <td>0.00</td>\n",
       "      <td>0.00</td>\n",
       "      <td>0.00</td>\n",
       "      <td>118,890.00</td>\n",
       "      <td>N</td>\n",
       "      <td>NaN</td>\n",
       "    </tr>\n",
       "  </tbody>\n",
       "</table>\n",
       "</div>"
      ],
      "text/plain": [
       "                                      Authority Name Fiscal Year End Date  \\\n",
       "0  Agriculture and New York State Horse Breeding ...           12/31/2018   \n",
       "1  Agriculture and New York State Horse Breeding ...           12/31/2018   \n",
       "2  Agriculture and New York State Horse Breeding ...           12/31/2018   \n",
       "3                 Albany Convention Center Authority           12/31/2018   \n",
       "4                 Albany Convention Center Authority           12/31/2018   \n",
       "\n",
       "  Has Employees   Last Name Middle Initial First Name                Title  \\\n",
       "0           NaN     Bennett            NaN       Dawn       Office Manager   \n",
       "1           NaN  Richardson              L     Connie  Executive Assistant   \n",
       "2           NaN       Young            NaN   M. Kelly   Executive Director   \n",
       "3           NaN  Sorrentino            NaN         Al      Project Manager   \n",
       "4           NaN     Stewart            NaN     Duncan   Executive Director   \n",
       "\n",
       "                         Group Department Pay Type Exempt Indicator  \\\n",
       "0  Administrative and Clerical        NaN       FT                Y   \n",
       "1  Administrative and Clerical        NaN       FT                Y   \n",
       "2                    Executive        NaN       FT                Y   \n",
       "3                   Managerial        NaN       FT                Y   \n",
       "4                   Managerial        NaN       FT                Y   \n",
       "\n",
       "  Base Annualized Salary Actual Salary Paid Overtime Paid Performance Bonus  \\\n",
       "0              56,000.00          56,000.00          0.00              0.00   \n",
       "1              45,840.00          45,840.00          0.00              0.00   \n",
       "2             115,000.00         115,000.00          0.00              0.00   \n",
       "3              40,305.33          40,305.33          0.00              0.00   \n",
       "4             118,890.00         118,890.00          0.00              0.00   \n",
       "\n",
       "  Extra Pay Other Compensation Total Compensation Paid By Another Entity  \\\n",
       "0      0.00               0.00          56,000.00                      N   \n",
       "1      0.00               0.00          45,840.00                      N   \n",
       "2      0.00               0.00         115,000.00                      N   \n",
       "3      0.00               0.00          40,305.33                      N   \n",
       "4      0.00               0.00         118,890.00                      N   \n",
       "\n",
       "  Paid by State or Local Government  \n",
       "0                               NaN  \n",
       "1                               NaN  \n",
       "2                               NaN  \n",
       "3                               NaN  \n",
       "4                               NaN  "
      ]
     },
     "execution_count": 3,
     "metadata": {},
     "output_type": "execute_result"
    }
   ],
   "source": [
    "data.head()"
   ]
  },
  {
   "cell_type": "code",
   "execution_count": 4,
   "metadata": {},
   "outputs": [],
   "source": [
    "data['Employee Name'] = data['First Name']+' '+data['Last Name'] "
   ]
  },
  {
   "cell_type": "code",
   "execution_count": 5,
   "metadata": {},
   "outputs": [],
   "source": [
    "data = data.drop(columns=['Has Employees','Middle Initial','Paid by State or Local Government','First Name','Last Name'])"
   ]
  },
  {
   "cell_type": "code",
   "execution_count": 6,
   "metadata": {},
   "outputs": [],
   "source": [
    "data['Base Annualized Salary'] = data['Base Annualized Salary'].replace({',':''},regex = True).astype(float)"
   ]
  },
  {
   "cell_type": "code",
   "execution_count": 7,
   "metadata": {},
   "outputs": [
    {
     "data": {
      "text/plain": [
       "0     56000.00\n",
       "1     45840.00\n",
       "2    115000.00\n",
       "3     40305.33\n",
       "4    118890.00\n",
       "Name: Base Annualized Salary, dtype: float64"
      ]
     },
     "execution_count": 7,
     "metadata": {},
     "output_type": "execute_result"
    }
   ],
   "source": [
    "data['Base Annualized Salary'].head()"
   ]
  },
  {
   "cell_type": "code",
   "execution_count": 8,
   "metadata": {},
   "outputs": [
    {
     "data": {
      "text/plain": [
       "Text(0, 0.5, 'Average Salary')"
      ]
     },
     "execution_count": 8,
     "metadata": {},
     "output_type": "execute_result"
    },
    {
     "data": {
      "image/png": "[encoded data removed]",
      "text/plain": [
       "<Figure size 432x288 with 1 Axes>"
      ]
     },
     "metadata": {
      "needs_background": "light"
     },
     "output_type": "display_data"
    }
   ],
   "source": [
    "%matplotlib inline\n",
    "round(data['Base Annualized Salary'].groupby(data['Group']).mean(),2).plot(kind='bar',color='#67c29f')\n",
    "plt.title('Average Salary Across Departments')\n",
    "plt.xlabel('Department Names')\n",
    "plt.ylabel('Average Salary')"
   ]
  },
  {
   "cell_type": "code",
   "execution_count": 9,
   "metadata": {},
   "outputs": [],
   "source": [
    "data['Fiscal Year End Date'] = pd.to_datetime(data['Fiscal Year End Date'])"
   ]
  },
  {
   "cell_type": "code",
   "execution_count": 10,
   "metadata": {},
   "outputs": [],
   "source": [
    "data['Fiscal Year'] = data['Fiscal Year End Date'].dt.year"
   ]
  },
  {
   "cell_type": "code",
   "execution_count": 11,
   "metadata": {},
   "outputs": [
    {
     "data": {
      "image/png": "[encoded data removed]",
      "text/plain": [
       "<Figure size 1080x432 with 1 Axes>"
      ]
     },
     "metadata": {
      "needs_background": "light"
     },
     "output_type": "display_data"
    }
   ],
   "source": [
    "df_grouped = data.groupby(['Group'])\n",
    "for key, group in df_grouped:\n",
    "    group.groupby('Fiscal Year')['Base Annualized Salary'].mean().plot(label=key, figsize = [15,6], linewidth=3)\n",
    "    plt.legend(bbox_to_anchor=(1.01, 1), loc='upper left')\n",
    "    plt.title('Average Salary Across Years For Each Departments')\n",
    "    plt.xlabel('Fiscal Year')\n",
    "    plt.ylabel('Average Salary')"
   ]
  },
  {
   "cell_type": "code",
   "execution_count": 12,
   "metadata": {},
   "outputs": [],
   "source": [
    "df_model = pd.DataFrame(data[data['Fiscal Year']==2018][['Authority Name','Title','Group','Base Annualized Salary']])"
   ]
  },
  {
   "cell_type": "code",
   "execution_count": 13,
   "metadata": {},
   "outputs": [
    {
     "data": {
      "text/html": [
       "<div>\n",
       "<style scoped>\n",
       "    .dataframe tbody tr th:only-of-type {\n",
       "        vertical-align: middle;\n",
       "    }\n",
       "\n",
       "    .dataframe tbody tr th {\n",
       "        vertical-align: top;\n",
       "    }\n",
       "\n",
       "    .dataframe thead th {\n",
       "        text-align: right;\n",
       "    }\n",
       "</style>\n",
       "<table border=\"1\" class=\"dataframe\">\n",
       "  <thead>\n",
       "    <tr style=\"text-align: right;\">\n",
       "      <th></th>\n",
       "      <th>Authority Name</th>\n",
       "      <th>Title</th>\n",
       "      <th>Group</th>\n",
       "      <th>Base Annualized Salary</th>\n",
       "    </tr>\n",
       "  </thead>\n",
       "  <tbody>\n",
       "    <tr>\n",
       "      <th>0</th>\n",
       "      <td>Agriculture and New York State Horse Breeding ...</td>\n",
       "      <td>Office Manager</td>\n",
       "      <td>Administrative and Clerical</td>\n",
       "      <td>56000.00</td>\n",
       "    </tr>\n",
       "    <tr>\n",
       "      <th>1</th>\n",
       "      <td>Agriculture and New York State Horse Breeding ...</td>\n",
       "      <td>Executive Assistant</td>\n",
       "      <td>Administrative and Clerical</td>\n",
       "      <td>45840.00</td>\n",
       "    </tr>\n",
       "    <tr>\n",
       "      <th>2</th>\n",
       "      <td>Agriculture and New York State Horse Breeding ...</td>\n",
       "      <td>Executive Director</td>\n",
       "      <td>Executive</td>\n",
       "      <td>115000.00</td>\n",
       "    </tr>\n",
       "    <tr>\n",
       "      <th>3</th>\n",
       "      <td>Albany Convention Center Authority</td>\n",
       "      <td>Project Manager</td>\n",
       "      <td>Managerial</td>\n",
       "      <td>40305.33</td>\n",
       "    </tr>\n",
       "    <tr>\n",
       "      <th>4</th>\n",
       "      <td>Albany Convention Center Authority</td>\n",
       "      <td>Executive Director</td>\n",
       "      <td>Managerial</td>\n",
       "      <td>118890.00</td>\n",
       "    </tr>\n",
       "  </tbody>\n",
       "</table>\n",
       "</div>"
      ],
      "text/plain": [
       "                                      Authority Name                Title  \\\n",
       "0  Agriculture and New York State Horse Breeding ...       Office Manager   \n",
       "1  Agriculture and New York State Horse Breeding ...  Executive Assistant   \n",
       "2  Agriculture and New York State Horse Breeding ...   Executive Director   \n",
       "3                 Albany Convention Center Authority      Project Manager   \n",
       "4                 Albany Convention Center Authority   Executive Director   \n",
       "\n",
       "                         Group  Base Annualized Salary  \n",
       "0  Administrative and Clerical                56000.00  \n",
       "1  Administrative and Clerical                45840.00  \n",
       "2                    Executive               115000.00  \n",
       "3                   Managerial                40305.33  \n",
       "4                   Managerial               118890.00  "
      ]
     },
     "execution_count": 13,
     "metadata": {},
     "output_type": "execute_result"
    }
   ],
   "source": [
    "df_model.head()"
   ]
  },
  {
   "cell_type": "code",
   "execution_count": 14,
   "metadata": {},
   "outputs": [],
   "source": [
    "df_model['Authority Code'] = data['Authority Name'].astype('category')\n",
    "df_model['Authority Code'] = df_model['Authority Code'].cat.codes\n",
    "\n",
    "df_model['Title Code'] = data['Title'].astype('category')\n",
    "df_model['Title Code'] = df_model['Title Code'].cat.codes\n",
    "\n",
    "df_model['Group Code'] = data['Group'].astype('category')\n",
    "df_model['Group Code'] = df_model['Group Code'].cat.codes"
   ]
  },
  {
   "cell_type": "code",
   "execution_count": 15,
   "metadata": {},
   "outputs": [],
   "source": [
    "df_model['Authority Code'] = df_model['Authority Code'].astype('object')\n",
    "df_model['Title Code'] = df_model['Title Code'].astype('object')\n",
    "df_model['Group Code'] = df_model['Group Code'].astype('object')"
   ]
  },
  {
   "cell_type": "code",
   "execution_count": 16,
   "metadata": {},
   "outputs": [
    {
     "data": {
      "text/html": [
       "<div>\n",
       "<style scoped>\n",
       "    .dataframe tbody tr th:only-of-type {\n",
       "        vertical-align: middle;\n",
       "    }\n",
       "\n",
       "    .dataframe tbody tr th {\n",
       "        vertical-align: top;\n",
       "    }\n",
       "\n",
       "    .dataframe thead th {\n",
       "        text-align: right;\n",
       "    }\n",
       "</style>\n",
       "<table border=\"1\" class=\"dataframe\">\n",
       "  <thead>\n",
       "    <tr style=\"text-align: right;\">\n",
       "      <th></th>\n",
       "      <th>Authority Name</th>\n",
       "      <th>Title</th>\n",
       "      <th>Group</th>\n",
       "      <th>Base Annualized Salary</th>\n",
       "      <th>Authority Code</th>\n",
       "      <th>Title Code</th>\n",
       "      <th>Group Code</th>\n",
       "    </tr>\n",
       "  </thead>\n",
       "  <tbody>\n",
       "    <tr>\n",
       "      <th>0</th>\n",
       "      <td>Agriculture and New York State Horse Breeding ...</td>\n",
       "      <td>Office Manager</td>\n",
       "      <td>Administrative and Clerical</td>\n",
       "      <td>56000.00</td>\n",
       "      <td>0</td>\n",
       "      <td>15055</td>\n",
       "      <td>0</td>\n",
       "    </tr>\n",
       "    <tr>\n",
       "      <th>1</th>\n",
       "      <td>Agriculture and New York State Horse Breeding ...</td>\n",
       "      <td>Executive Assistant</td>\n",
       "      <td>Administrative and Clerical</td>\n",
       "      <td>45840.00</td>\n",
       "      <td>0</td>\n",
       "      <td>9376</td>\n",
       "      <td>0</td>\n",
       "    </tr>\n",
       "    <tr>\n",
       "      <th>2</th>\n",
       "      <td>Agriculture and New York State Horse Breeding ...</td>\n",
       "      <td>Executive Director</td>\n",
       "      <td>Executive</td>\n",
       "      <td>115000.00</td>\n",
       "      <td>0</td>\n",
       "      <td>9415</td>\n",
       "      <td>1</td>\n",
       "    </tr>\n",
       "    <tr>\n",
       "      <th>3</th>\n",
       "      <td>Albany Convention Center Authority</td>\n",
       "      <td>Project Manager</td>\n",
       "      <td>Managerial</td>\n",
       "      <td>40305.33</td>\n",
       "      <td>1</td>\n",
       "      <td>16591</td>\n",
       "      <td>2</td>\n",
       "    </tr>\n",
       "    <tr>\n",
       "      <th>4</th>\n",
       "      <td>Albany Convention Center Authority</td>\n",
       "      <td>Executive Director</td>\n",
       "      <td>Managerial</td>\n",
       "      <td>118890.00</td>\n",
       "      <td>1</td>\n",
       "      <td>9415</td>\n",
       "      <td>2</td>\n",
       "    </tr>\n",
       "  </tbody>\n",
       "</table>\n",
       "</div>"
      ],
      "text/plain": [
       "                                      Authority Name                Title  \\\n",
       "0  Agriculture and New York State Horse Breeding ...       Office Manager   \n",
       "1  Agriculture and New York State Horse Breeding ...  Executive Assistant   \n",
       "2  Agriculture and New York State Horse Breeding ...   Executive Director   \n",
       "3                 Albany Convention Center Authority      Project Manager   \n",
       "4                 Albany Convention Center Authority   Executive Director   \n",
       "\n",
       "                         Group  Base Annualized Salary Authority Code  \\\n",
       "0  Administrative and Clerical                56000.00              0   \n",
       "1  Administrative and Clerical                45840.00              0   \n",
       "2                    Executive               115000.00              0   \n",
       "3                   Managerial                40305.33              1   \n",
       "4                   Managerial               118890.00              1   \n",
       "\n",
       "  Title Code Group Code  \n",
       "0      15055          0  \n",
       "1       9376          0  \n",
       "2       9415          1  \n",
       "3      16591          2  \n",
       "4       9415          2  "
      ]
     },
     "execution_count": 16,
     "metadata": {},
     "output_type": "execute_result"
    }
   ],
   "source": [
    "df_model.head()"
   ]
  },
  {
   "cell_type": "code",
   "execution_count": 17,
   "metadata": {},
   "outputs": [],
   "source": [
    "df_model = df_model.dropna()\n",
    "df_model = df_model.reset_index(drop=True)"
   ]
  },
  {
   "cell_type": "code",
   "execution_count": 18,
   "metadata": {},
   "outputs": [
    {
     "data": {
      "text/plain": [
       "0"
      ]
     },
     "execution_count": 18,
     "metadata": {},
     "output_type": "execute_result"
    }
   ],
   "source": [
    "sum(df_model.isnull().values.ravel())"
   ]
  },
  {
   "cell_type": "code",
   "execution_count": 19,
   "metadata": {},
   "outputs": [],
   "source": [
    "X = df_model.iloc[:,4:7].values\n",
    "y = df_model.iloc[:,3:4].values"
   ]
  },
  {
   "cell_type": "code",
   "execution_count": 20,
   "metadata": {},
   "outputs": [],
   "source": [
    "from sklearn.model_selection import train_test_split\n",
    "X_train, X_test, y_train, y_test = train_test_split(X, y, test_size = 0.1)"
   ]
  },
  {
   "cell_type": "code",
   "execution_count": 21,
   "metadata": {},
   "outputs": [
    {
     "name": "stderr",
     "output_type": "stream",
     "text": [
      "C:\\Users\\gupta\\Anaconda3\\lib\\site-packages\\ipykernel_launcher.py:3: DataConversionWarning: A column-vector y was passed when a 1d array was expected. Please change the shape of y to (n_samples,), for example using ravel().\n",
      "  This is separate from the ipykernel package so we can avoid doing imports until\n"
     ]
    },
    {
     "data": {
      "text/plain": [
       "RandomForestRegressor(bootstrap=True, criterion='mse', max_depth=None,\n",
       "                      max_features='auto', max_leaf_nodes=None,\n",
       "                      min_impurity_decrease=0.0, min_impurity_split=None,\n",
       "                      min_samples_leaf=1, min_samples_split=2,\n",
       "                      min_weight_fraction_leaf=0.0, n_estimators=30,\n",
       "                      n_jobs=None, oob_score=False, random_state=None,\n",
       "                      verbose=0, warm_start=False)"
      ]
     },
     "execution_count": 21,
     "metadata": {},
     "output_type": "execute_result"
    }
   ],
   "source": [
    "from sklearn.ensemble import RandomForestRegressor\n",
    "regressor_rf = RandomForestRegressor(n_estimators=30)\n",
    "regressor_rf.fit(X_train,y_train)"
   ]
  },
  {
   "cell_type": "code",
   "execution_count": 22,
   "metadata": {},
   "outputs": [],
   "source": [
    "y_pred_rf = regressor_rf.predict(X_test)"
   ]
  },
  {
   "cell_type": "code",
   "execution_count": 23,
   "metadata": {},
   "outputs": [],
   "source": [
    "y_pred_rf = np.array([y_pred_rf])\n",
    "y_pred_rf = y_pred_rf.T"
   ]
  },
  {
   "cell_type": "code",
   "execution_count": 24,
   "metadata": {},
   "outputs": [],
   "source": [
    "df_results_rf = pd.DataFrame(np.hstack((y_test,y_pred_rf)),columns = ['Actual','Predicted'])"
   ]
  },
  {
   "cell_type": "code",
   "execution_count": 25,
   "metadata": {},
   "outputs": [
    {
     "data": {
      "text/html": [
       "<div>\n",
       "<style scoped>\n",
       "    .dataframe tbody tr th:only-of-type {\n",
       "        vertical-align: middle;\n",
       "    }\n",
       "\n",
       "    .dataframe tbody tr th {\n",
       "        vertical-align: top;\n",
       "    }\n",
       "\n",
       "    .dataframe thead th {\n",
       "        text-align: right;\n",
       "    }\n",
       "</style>\n",
       "<table border=\"1\" class=\"dataframe\">\n",
       "  <thead>\n",
       "    <tr style=\"text-align: right;\">\n",
       "      <th></th>\n",
       "      <th>Actual</th>\n",
       "      <th>Predicted</th>\n",
       "    </tr>\n",
       "  </thead>\n",
       "  <tbody>\n",
       "    <tr>\n",
       "      <th>0</th>\n",
       "      <td>33831.00</td>\n",
       "      <td>47797.538889</td>\n",
       "    </tr>\n",
       "    <tr>\n",
       "      <th>1</th>\n",
       "      <td>43052.15</td>\n",
       "      <td>29090.272275</td>\n",
       "    </tr>\n",
       "    <tr>\n",
       "      <th>2</th>\n",
       "      <td>52954.28</td>\n",
       "      <td>51625.328817</td>\n",
       "    </tr>\n",
       "    <tr>\n",
       "      <th>3</th>\n",
       "      <td>64089.87</td>\n",
       "      <td>67445.817584</td>\n",
       "    </tr>\n",
       "    <tr>\n",
       "      <th>4</th>\n",
       "      <td>65719.00</td>\n",
       "      <td>63022.653684</td>\n",
       "    </tr>\n",
       "    <tr>\n",
       "      <th>5</th>\n",
       "      <td>74407.00</td>\n",
       "      <td>82644.761827</td>\n",
       "    </tr>\n",
       "    <tr>\n",
       "      <th>6</th>\n",
       "      <td>113656.00</td>\n",
       "      <td>117655.111111</td>\n",
       "    </tr>\n",
       "    <tr>\n",
       "      <th>7</th>\n",
       "      <td>52529.00</td>\n",
       "      <td>52110.352696</td>\n",
       "    </tr>\n",
       "    <tr>\n",
       "      <th>8</th>\n",
       "      <td>60064.39</td>\n",
       "      <td>59937.204654</td>\n",
       "    </tr>\n",
       "    <tr>\n",
       "      <th>9</th>\n",
       "      <td>77294.00</td>\n",
       "      <td>80259.570729</td>\n",
       "    </tr>\n",
       "  </tbody>\n",
       "</table>\n",
       "</div>"
      ],
      "text/plain": [
       "      Actual      Predicted\n",
       "0   33831.00   47797.538889\n",
       "1   43052.15   29090.272275\n",
       "2   52954.28   51625.328817\n",
       "3   64089.87   67445.817584\n",
       "4   65719.00   63022.653684\n",
       "5   74407.00   82644.761827\n",
       "6  113656.00  117655.111111\n",
       "7   52529.00   52110.352696\n",
       "8   60064.39   59937.204654\n",
       "9   77294.00   80259.570729"
      ]
     },
     "execution_count": 25,
     "metadata": {},
     "output_type": "execute_result"
    }
   ],
   "source": [
    "df_results_rf.head(10)"
   ]
  },
  {
   "cell_type": "code",
   "execution_count": 26,
   "metadata": {},
   "outputs": [
    {
     "name": "stdout",
     "output_type": "stream",
     "text": [
      "Mean Absolute Error: 6077.788611565696\n",
      "R-Sqaure Value: 0.813577812642601\n"
     ]
    }
   ],
   "source": [
    "from sklearn import metrics\n",
    "from sklearn.metrics import r2_score\n",
    "print('Mean Absolute Error:', metrics.mean_absolute_error(y_test, y_pred_rf))\n",
    "print('R-Sqaure Value:',r2_score(y_test, y_pred_rf))  "
   ]
  }
 ],
 "metadata": {
  "kernelspec": {
   "display_name": "Python 3",
   "language": "python",
   "name": "python3"
  },
  "language_info": {
   "codemirror_mode": {
    "name": "ipython",
    "version": 3
   },
   "file_extension": ".py",
   "mimetype": "text/x-python",
   "name": "python",
   "nbconvert_exporter": "python",
   "pygments_lexer": "ipython3",
   "version": "3.6.3"
  }
 },
 "nbformat": 4,
 "nbformat_minor": 2
}
